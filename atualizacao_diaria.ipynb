{
 "cells": [
  {
   "cell_type": "markdown",
   "metadata": {},
   "source": [
    "<img src=\"https://multi7.com.br/wp-content/themes/m7_2021/images/logo-verde.png\" >\n"
   ]
  },
  {
   "cell_type": "markdown",
   "metadata": {},
   "source": [
    "## 0 - Bibliotecas"
   ]
  },
  {
   "cell_type": "code",
   "execution_count": null,
   "metadata": {},
   "outputs": [],
   "source": [
    "# from auxiliar.positivador import t_positivador\n",
    "# from auxiliar.diversificacao import t_diversificacao\n",
    "from auxiliar.corretagem import t_corretagem\n",
    "# from auxiliar.btc import t_btc\n",
    "# from auxiliar.prod_estruturados import t_prod_estruturados\n",
    "# from auxiliar.cambio import t_cambio\n",
    "# from auxiliar.coe import t_coe\n",
    "# from auxiliar.transferencias import t_processamentos\n",
    "# from auxiliar.xp_us_cap import t_xpus_cap\n",
    "# from auxiliar.analitico_rf import t_analitico_rf\n",
    "# from auxiliar.compromissadas import t_compromissada\n",
    "# from auxiliar.fluxo_corretagem import t_fluxo_corretagem\n",
    "# from auxiliar.fee_fixo import t_fee_fixo\n",
    "from datetime import date\n"
   ]
  },
  {
   "cell_type": "markdown",
   "metadata": {},
   "source": [
    "## 2 - Paths dos arquivos"
   ]
  },
  {
   "cell_type": "code",
   "execution_count": null,
   "metadata": {},
   "outputs": [
    {
     "ename": "ModuleNotFoundError",
     "evalue": "No module named 'auxiliares'",
     "output_type": "error",
     "traceback": [
      "\u001b[1;31m---------------------------------------------------------------------------\u001b[0m",
      "\u001b[1;31mModuleNotFoundError\u001b[0m                       Traceback (most recent call last)",
      "Cell \u001b[1;32mIn[1], line 3\u001b[0m\n\u001b[0;32m      1\u001b[0m \u001b[38;5;66;03m# from auxiliar.positivador import t_positivador\u001b[39;00m\n\u001b[0;32m      2\u001b[0m \u001b[38;5;66;03m# from auxiliar.diversificacao import t_diversificacao\u001b[39;00m\n\u001b[1;32m----> 3\u001b[0m \u001b[38;5;28;01mfrom\u001b[39;00m \u001b[38;5;21;01mauxiliar\u001b[39;00m\u001b[38;5;21;01m.\u001b[39;00m\u001b[38;5;21;01mcorretagem\u001b[39;00m \u001b[38;5;28;01mimport\u001b[39;00m t_corretagem\n\u001b[0;32m      4\u001b[0m \u001b[38;5;66;03m# from auxiliar.btc import t_btc\u001b[39;00m\n\u001b[0;32m      5\u001b[0m \u001b[38;5;66;03m# from auxiliar.prod_estruturados import t_prod_estruturados\u001b[39;00m\n\u001b[0;32m      6\u001b[0m \u001b[38;5;66;03m# from auxiliar.cambio import t_cambio\u001b[39;00m\n\u001b[1;32m   (...)\u001b[0m\n\u001b[0;32m     12\u001b[0m \u001b[38;5;66;03m# from auxiliar.fluxo_corretagem import t_fluxo_corretagem\u001b[39;00m\n\u001b[0;32m     13\u001b[0m \u001b[38;5;66;03m# from auxiliar.fee_fixo import t_fee_fixo\u001b[39;00m\n\u001b[0;32m     14\u001b[0m \u001b[38;5;28;01mfrom\u001b[39;00m \u001b[38;5;21;01mdatetime\u001b[39;00m \u001b[38;5;28;01mimport\u001b[39;00m date\n",
      "File \u001b[1;32mc:\\Users\\Administrador\\Documents\\codigos\\atualizacao_diaria\\M7_ETL\\auxiliar\\corretagem.py:1\u001b[0m\n\u001b[1;32m----> 1\u001b[0m \u001b[38;5;28;01mfrom\u001b[39;00m \u001b[38;5;21;01mauxiliares\u001b[39;00m \u001b[38;5;28;01mimport\u001b[39;00m (\n\u001b[0;32m      2\u001b[0m     truncar_2_casas,\n\u001b[0;32m      3\u001b[0m     remover_linhas_sem_data,\n\u001b[0;32m      4\u001b[0m     remover_letras_coluna,\n\u001b[0;32m      5\u001b[0m     formatar_colunas_data,\n\u001b[0;32m      6\u001b[0m     adicionando_aspas_duplas,\n\u001b[0;32m      7\u001b[0m     carregar_arquivo,\n\u001b[0;32m      8\u001b[0m )\n\u001b[0;32m      9\u001b[0m \u001b[38;5;28;01mimport\u001b[39;00m \u001b[38;5;21;01mpandas\u001b[39;00m \u001b[38;5;28;01mas\u001b[39;00m \u001b[38;5;21;01mpd\u001b[39;00m\n\u001b[0;32m     12\u001b[0m \u001b[38;5;28;01mdef\u001b[39;00m \u001b[38;5;21mt_corretagem\u001b[39m(dados):\n",
      "\u001b[1;31mModuleNotFoundError\u001b[0m: No module named 'auxiliares'"
     ]
    }
   ],
   "source": [
    "'''\n",
    "nao costumo atualizar mais de uma data_ref ao mesmo tempo por questoes de organizacao\n",
    "o arquivo pra ser salvo fica no formato \"aaaa.mm.dd-aaaa.mm.dd-base.xls\"\n",
    "\n",
    "primeira data é o dia de hoje(data que voce esta fazendo a carga)\n",
    "segunda data a data_ref do relatorio.(ou ultima data_ref caso seja um intervalo)\n",
    "'''\n",
    "# from auxiliar.positivador import t_positivador\n",
    "# from auxiliar.diversificacao import t_diversificacao\n",
    "from auxiliar.corretagem import t_corretagem\n",
    "# from auxiliar.btc import t_btc\n",
    "# from auxiliar.prod_estruturados import t_prod_estruturados\n",
    "# from auxiliar.cambio import t_cambio\n",
    "# from auxiliar.coe import t_coe\n",
    "# from auxiliar.transferencias import t_processamentos\n",
    "# from auxiliar.xp_us_cap import t_xpus_cap\n",
    "# from auxiliar.analitico_rf import t_analitico_rf\n",
    "# from auxiliar.compromissadas import t_compromissada\n",
    "# from auxiliar.fluxo_corretagem import t_fluxo_corretagem\n",
    "# from auxiliar.fee_fixo import t_fee_fixo\n",
    "from datetime import date\n",
    "\n",
    "hoje = date.today().strftime('%Y.%m.%d')\n",
    "data_ref = '2025.01.20' # a data ref dos relatorios que estamos atualizando\n",
    "\n",
    "path_do_arquivo_positivador = f'../../atualizacao_diaria/IMPORT_S3_SQL/BASE/0 - positivador/{hoje}-{data_ref}-positivador.xlsx'\n",
    "path_do_arquivo_diversificacao = f'../../atualizacao_diaria/IMPORT_S3_SQL/BASE/0.1 - diversificacao/{hoje}-{data_ref}-diversificacao.xlsx'\n",
    "path_do_arquivo_corretagem = f'../../atualizacao_diaria/IMPORT_S3_SQL/BASE/1 - corretagem/{hoje}-{data_ref}-corretagem.xlsx'\n",
    "path_do_arquivo_btc = f'../../atualizacao_diaria/IMPORT_S3_SQL/BASE/2 - btc/{hoje}-{data_ref}-btc.xlsx'\n",
    "path_do_arquivo_prod_estruturados = f'../../atualizacao_diaria/IMPORT_S3_SQL/BASE/3 - prod_estruturados/{hoje}-{data_ref}-prod_estruturados.xlsx'\n",
    "path_do_arquivo_cambio = f'../../atualizacao_diaria/IMPORT_S3_SQL/BASE/4 - cambio/{hoje}-{data_ref}-cambio.xlsx'\n",
    "path_do_arquivo_coe = f'../../atualizacao_diaria/IMPORT_S3_SQL/BASE/5 - coe/{hoje}-{data_ref}-coe.xlsx'\n",
    "path_do_arquivo_nps = f'../../atualizacao_diaria/IMPORT_S3_SQL/BASE/6 - nps/{hoje}-{data_ref}-nps.xlsx'\n",
    "path_do_arquivo_xpus_cap = f'../../atualizacao_diaria/IMPORT_S3_SQL/BASE/7 - xpus_cap/{hoje}-{data_ref}-xpus_cap.xlsx'\n",
    "path_do_arquivo_analitico = f'../../atualizacao_diaria/IMPORT_S3_SQL/BASE/8 - analitico_rf/{hoje}-{data_ref}-analitico_rf.xlsx'\n",
    "path_do_arquivo_compromissada = f'../../atualizacao_diaria/IMPORT_S3_SQL/BASE/9 - compromissada/{hoje}-{data_ref}-compromissada.xlsx'\n",
    "path_do_arquivo_fluxo_corretagem = f'../../atualizacao_diaria/IMPORT_S3_SQL/BASE/10 - fluxo_corretagem/{hoje}-{data_ref}-fluxo_corretagem.xlsx'\n",
    "path_do_arquivo_transferencia = f'../../atualizacao_diaria/IMPORT_S3_SQL/BASE/11 - tabela_processamentos/{hoje}-{data_ref}-tabela_processamentos.xlsx'\n",
    "path_do_arquivo_fee_fixo = f'../../atualizacao_diaria/IMPORT_S3_SQL/BASE/12 - fee_fixo/{hoje}-{data_ref}-fee_fixo.xlsx'\n",
    "\n",
    "\n",
    "path_carga_positivador = r\"C:\\Users\\Administrador\\Documents\\atualizacao_diaria\\IMPORT_S3_SQL\\Carga Positivador.exe\"\n",
    "path_carga_base = r\"C:\\Users\\Administrador\\Documents\\atualizacao_diaria\\IMPORT_S3_SQL\\IMPORT_S3_SQL.exe\"\n",
    "\n",
    "retorno = t_corretagem(path_do_arquivo_corretagem)\n"
   ]
  },
  {
   "cell_type": "markdown",
   "metadata": {},
   "source": [
    "# 3 - Execuções"
   ]
  },
  {
   "cell_type": "markdown",
   "metadata": {},
   "source": [
    "## Cubo Investimentos"
   ]
  },
  {
   "cell_type": "markdown",
   "metadata": {},
   "source": [
    "### 0 - positivador"
   ]
  },
  {
   "cell_type": "code",
   "execution_count": null,
   "metadata": {},
   "outputs": [],
   "source": [
    "retorno = load_positivador_s3(path_do_arquivo_positivador)\n",
    "# if not retorno:\n",
    "#     carga_positivador(path_carga_positivador)"
   ]
  },
  {
   "cell_type": "markdown",
   "metadata": {},
   "source": [
    "### 1 - diversificacao"
   ]
  },
  {
   "cell_type": "code",
   "execution_count": null,
   "metadata": {},
   "outputs": [],
   "source": [
    "retorno = load_diversificacao_s3(path_do_arquivo_diversificacao)\n",
    "# if not retorno:\n",
    "#     carga_base(path_carga_base, entrada='diversificacao')"
   ]
  },
  {
   "cell_type": "markdown",
   "metadata": {},
   "source": [
    "### 2 - corretagem"
   ]
  },
  {
   "cell_type": "code",
   "execution_count": null,
   "metadata": {},
   "outputs": [],
   "source": [
    "retorno = t_corretagem(path_do_arquivo_corretagem)\n",
    "# if not retorno:\n",
    "#     carga_base(path_carga_base, entrada='corretagem')\n"
   ]
  },
  {
   "cell_type": "markdown",
   "metadata": {},
   "source": [
    "### 3 - btc "
   ]
  },
  {
   "cell_type": "code",
   "execution_count": null,
   "metadata": {},
   "outputs": [],
   "source": [
    "retorno = load_btc_s3(path_do_arquivo_btc)\n",
    "\n",
    "# if not retorno:\n",
    "#     carga_base(path_carga_base, entrada='btc')"
   ]
  },
  {
   "cell_type": "markdown",
   "metadata": {},
   "source": [
    "### 4 - prod_estruturados"
   ]
  },
  {
   "cell_type": "code",
   "execution_count": null,
   "metadata": {},
   "outputs": [],
   "source": [
    "retorno = load_prod_estruturados_s3(path_do_arquivo_prod_estruturados)\n",
    "# if not retorno:\n",
    "#     carga_base(path_carga_base, entrada='produtos_estruturados')"
   ]
  },
  {
   "cell_type": "markdown",
   "metadata": {},
   "source": [
    "### 5 - cambio"
   ]
  },
  {
   "cell_type": "code",
   "execution_count": null,
   "metadata": {},
   "outputs": [],
   "source": [
    "retorno = load_cambio_s3(path_do_arquivo_cambio)\n",
    "# if not retorno:\n",
    "#      carga_base(path_carga_base, entrada=\"cambio_att\")\n"
   ]
  },
  {
   "cell_type": "markdown",
   "metadata": {},
   "source": [
    "### 6 - coe"
   ]
  },
  {
   "cell_type": "code",
   "execution_count": null,
   "metadata": {},
   "outputs": [],
   "source": [
    "retorno = load_coe_s3(path_do_arquivo_coe)\n",
    "# if not retorno:\n",
    "#     carga_base(path_carga_base, entrada='coe')"
   ]
  },
  {
   "cell_type": "markdown",
   "metadata": {},
   "source": [
    "### 7 - nps"
   ]
  },
  {
   "cell_type": "code",
   "execution_count": null,
   "metadata": {},
   "outputs": [],
   "source": []
  },
  {
   "cell_type": "markdown",
   "metadata": {},
   "source": [
    "### 8 - xp_us_cap"
   ]
  },
  {
   "cell_type": "code",
   "execution_count": null,
   "metadata": {},
   "outputs": [],
   "source": [
    "retorno = load_xpus_cap_s3(path_do_arquivo_xpus_cap)\n"
   ]
  },
  {
   "cell_type": "markdown",
   "metadata": {},
   "source": [
    "## Receitas\n"
   ]
  },
  {
   "cell_type": "markdown",
   "metadata": {},
   "source": [
    "### 9 - analitico_rf"
   ]
  },
  {
   "cell_type": "code",
   "execution_count": null,
   "metadata": {},
   "outputs": [],
   "source": [
    "retorno = load_analitico_rf_s3(path_do_arquivo_analitico)\n",
    "# if not retorno:analitico\n",
    "#     carga_base(path_carga_base, entrada='analitico_rf')"
   ]
  },
  {
   "cell_type": "markdown",
   "metadata": {},
   "source": [
    "### 11 - compromissada"
   ]
  },
  {
   "cell_type": "code",
   "execution_count": null,
   "metadata": {},
   "outputs": [],
   "source": [
    "retorno = load_compromissada_s3(path_do_arquivo_compromissada)\n",
    "# if not retorno:\n",
    "#     carga_base(path_carga_base, entrada='compromissada')"
   ]
  },
  {
   "cell_type": "markdown",
   "metadata": {},
   "source": [
    "### 12 - fluxo_corretagem"
   ]
  },
  {
   "cell_type": "code",
   "execution_count": null,
   "metadata": {},
   "outputs": [],
   "source": [
    "retorno = load_fluxo_corretagem_s3(path_do_arquivo_fluxo_corretagem)\n",
    "# if not retorno:\n",
    "#     carga_base(path_carga_base, entrada='fluxo_corretagem')"
   ]
  },
  {
   "cell_type": "markdown",
   "metadata": {},
   "source": [
    "### 13 - transferencias"
   ]
  },
  {
   "cell_type": "code",
   "execution_count": null,
   "metadata": {},
   "outputs": [],
   "source": [
    "retorno = load_processamentos_s3(path_do_arquivo_transferencia)"
   ]
  },
  {
   "cell_type": "markdown",
   "metadata": {},
   "source": [
    "### 14 - CDI"
   ]
  },
  {
   "cell_type": "code",
   "execution_count": null,
   "metadata": {},
   "outputs": [],
   "source": [
    "import pandas as pd\n",
    "def consulta_bc(data_ini, data_fin, base=1):\n",
    "    url = f'http://api.bcb.gov.br/dados/serie/bcdata.sgs.{base}/dados?formato=json&dataInicial={data_ini}&dataFinal={data_fin}'\n",
    "    df = pd.read_json(url)\n",
    "    if not df.empty:\n",
    "        \n",
    "        return df\n",
    "    else:\n",
    "        return None\n",
    "    \n",
    "df = consulta_bc(data_ini='30/11/2024', data_fin='31/12/2024', base=12)\n",
    "\n"
   ]
  },
  {
   "cell_type": "code",
   "execution_count": null,
   "metadata": {},
   "outputs": [],
   "source": [
    "df['data'] = pd.to_datetime(df['data'], format='%d/%m/%Y')\n",
    "df.rename(columns={'valor': 'CDI_dia', 'data': 'data_ref'}, inplace=True)\n",
    "df['CDI_dia'] = df['CDI_dia']/100\n",
    "\n"
   ]
  },
  {
   "cell_type": "code",
   "execution_count": null,
   "metadata": {},
   "outputs": [],
   "source": [
    "df['ano_mes'] = df['data_ref'].dt.year.astype(str) + df['data_ref'].dt.month.astype(str)\n",
    "df.head()"
   ]
  },
  {
   "cell_type": "code",
   "execution_count": null,
   "metadata": {},
   "outputs": [],
   "source": [
    "df_cdi_mes = df.groupby('ano_mes')['CDI_dia'].apply(lambda x: (((x / 100 + 1).prod() - 1) * 100)).reset_index()\n",
    "df_cdi_mes.rename(columns={'CDI_dia': 'CDI_mes'}, inplace=True)\n",
    "df = df.merge(df_cdi_mes, on='ano_mes', how='left')\n",
    "df['CDI_mes'] = df['CDI_mes'].round(6)\n",
    "colunas = ['data_ref', 'ano_mes', 'CDI_dia', 'CDI_mes']\n",
    "df = df[colunas]\n",
    "df"
   ]
  },
  {
   "cell_type": "code",
   "execution_count": null,
   "metadata": {},
   "outputs": [],
   "source": [
    "df.to_csv('cdi_dezembro24.csv', index=False)"
   ]
  },
  {
   "cell_type": "markdown",
   "metadata": {},
   "source": [
    "### 16 - XPerformance"
   ]
  },
  {
   "cell_type": "code",
   "execution_count": null,
   "metadata": {},
   "outputs": [],
   "source": [
    "path_do_xperformance = f'../xperformance_rpa/downloads/setembro2024'\n",
    "\n",
    "mover_xperformance_s3(pasta_local=path_do_xperformance, bucket='m7investimentos', pasta_destino='xperformance', s3=acessar_s3())\n"
   ]
  },
  {
   "cell_type": "code",
   "execution_count": null,
   "metadata": {},
   "outputs": [],
   "source": [
    "path_do_xperformance = f'../xperformance_rpa/downloads/outubro2024'\n",
    "\n",
    "mover_xperformance_s3(pasta_local=path_do_xperformance, bucket='m7investimentos', pasta_destino='xperformance', s3=acessar_s3())"
   ]
  },
  {
   "cell_type": "code",
   "execution_count": null,
   "metadata": {},
   "outputs": [],
   "source": [
    "path_do_xperformance = f'../xperformance_rpa/downloads/novembro2024'\n",
    "\n",
    "mover_xperformance_s3(pasta_local=path_do_xperformance, bucket='m7investimentos', pasta_destino='xperformance', s3=acessar_s3())"
   ]
  },
  {
   "cell_type": "markdown",
   "metadata": {},
   "source": [
    "## Fee fixo"
   ]
  },
  {
   "cell_type": "code",
   "execution_count": null,
   "metadata": {},
   "outputs": [],
   "source": [
    "retorno = load_fee_fixo_s3(path_do_arquivo_fee_fixo)\n",
    "# if not retorno:analitico\n",
    "#     carga_base(path_carga_base, entrada='analitico_rf')"
   ]
  }
 ],
 "metadata": {
  "kernelspec": {
   "display_name": "m7_ia_investimentos",
   "language": "python",
   "name": "python3"
  },
  "language_info": {
   "codemirror_mode": {
    "name": "ipython",
    "version": 3
   },
   "file_extension": ".py",
   "mimetype": "text/x-python",
   "name": "python",
   "nbconvert_exporter": "python",
   "pygments_lexer": "ipython3",
   "version": "3.12.3"
  }
 },
 "nbformat": 4,
 "nbformat_minor": 2
}
