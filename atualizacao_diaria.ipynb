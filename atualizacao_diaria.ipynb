{
 "cells": [
  {
   "cell_type": "markdown",
   "metadata": {},
   "source": [
    "<img src=\"https://multi7.com.br/wp-content/themes/m7_2021/images/logo-verde.png\" >\n"
   ]
  },
  {
   "cell_type": "markdown",
   "metadata": {},
   "source": [
    "## 0 - Bibliotecas"
   ]
  },
  {
   "cell_type": "code",
   "execution_count": 4,
   "metadata": {},
   "outputs": [],
   "source": [
    "from auxiliar.positivador import load_positivador_s3\n",
    "from auxiliar.diversificacao import load_diversificacao_s3\n",
    "from auxiliar.corretagem import load_corretagem_s3\n",
    "from auxiliar.btc import load_btc_s3\n",
    "from auxiliar.prod_estruturados import load_prod_estruturados_s3\n",
    "from auxiliar.cambio import load_cambio_s3\n",
    "from auxiliar.coe import load_coe_s3\n",
    "from auxiliar.transferencias import load_processamentos_s3\n",
    "from auxiliar.xp_us_cap import load_xpus_cap_s3\n",
    "from auxiliar.analitico_rf import load_analitico_rf_s3\n",
    "from auxiliar.compromissadas import load_compromissada_s3\n",
    "from auxiliar.fluxo_corretagem import load_fluxo_corretagem_s3\n",
    "from auxiliar.fee_fixo import load_fee_fixo_s3\n",
    "from auxiliar.auxiliares import carga_positivador, carga_base, mover_arquivos_para_pasta, acessar_s3, mover_xperformance_s3\n",
    "from datetime import date\n"
   ]
  },
  {
   "cell_type": "markdown",
   "metadata": {},
   "source": [
    "## 2 - Paths dos arquivos"
   ]
  },
  {
   "cell_type": "code",
   "execution_count": 5,
   "metadata": {},
   "outputs": [],
   "source": [
    "'''\n",
    "nao costumo atualizar mais de uma data_ref ao mesmo tempo por questoes de organizacao\n",
    "o arquivo pra ser salvo fica no formato \"aaaa.mm.dd-aaaa.mm.dd-base.xls\"\n",
    "\n",
    "primeira data é o dia de hoje(data que voce esta fazendo a carga)\n",
    "segunda data a data_ref do relatorio.(ou ultima data_ref caso seja um intervalo)\n",
    "'''\n",
    "\n",
    "hoje = date.today().strftime('%Y.%m.%d')\n",
    "data_ref = '2025.01.17' # a data ref dos relatorios que estamos atualizando\n",
    "\n",
    "path_do_arquivo_positivador = f'../../atualizacao_diaria/IMPORT_S3_SQL/BASE/0 - positivador/{hoje}-{data_ref}-positivador.xlsx'\n",
    "path_do_arquivo_diversificacao = f'../../atualizacao_diaria/IMPORT_S3_SQL/BASE/0.1 - diversificacao/{hoje}-{data_ref}-diversificacao.xlsx'\n",
    "path_do_arquivo_corretagem = f'../../atualizacao_diaria/IMPORT_S3_SQL/BASE/1 - corretagem/{hoje}-{data_ref}-corretagem.xlsx'\n",
    "path_do_arquivo_btc = f'../../atualizacao_diaria/IMPORT_S3_SQL/BASE/2 - btc/{hoje}-{data_ref}-btc.xlsx'\n",
    "path_do_arquivo_prod_estruturados = f'../../atualizacao_diaria/IMPORT_S3_SQL/BASE/3 - prod_estruturados/{hoje}-{data_ref}-prod_estruturados.xlsx'\n",
    "path_do_arquivo_cambio = f'../../atualizacao_diaria/IMPORT_S3_SQL/BASE/4 - cambio/{hoje}-{data_ref}-cambio.xlsx'\n",
    "path_do_arquivo_coe = f'../../atualizacao_diaria/IMPORT_S3_SQL/BASE/5 - coe/{hoje}-{data_ref}-coe.xlsx'\n",
    "path_do_arquivo_nps = f'../../atualizacao_diaria/IMPORT_S3_SQL/BASE/6 - nps/{hoje}-{data_ref}-nps.xlsx'\n",
    "path_do_arquivo_xpus_cap = f'../../atualizacao_diaria/IMPORT_S3_SQL/BASE/7 - xpus_cap/{hoje}-{data_ref}-xpus_cap.xlsx'\n",
    "path_do_arquivo_analitico = f'../../atualizacao_diaria/IMPORT_S3_SQL/BASE/8 - analitico_rf/{hoje}-{data_ref}-analitico_rf.xlsx'\n",
    "path_do_arquivo_compromissada = f'../../atualizacao_diaria/IMPORT_S3_SQL/BASE/9 - compromissada/{hoje}-{data_ref}-compromissada.xlsx'\n",
    "path_do_arquivo_fluxo_corretagem = f'../../atualizacao_diaria/IMPORT_S3_SQL/BASE/10 - fluxo_corretagem/{hoje}-{data_ref}-fluxo_corretagem.xlsx'\n",
    "path_do_arquivo_transferencia = f'../../atualizacao_diaria/IMPORT_S3_SQL/BASE/11 - tabela_processamentos/{hoje}-{data_ref}-tabela_processamentos.xlsx'\n",
    "path_do_arquivo_fee_fixo = f'../../atualizacao_diaria/IMPORT_S3_SQL/BASE/12 - fee_fixo/{hoje}-{data_ref}-fee_fixo.xlsx'\n",
    "\n",
    "\n",
    "path_carga_positivador = r\"C:\\Users\\Administrador\\Documents\\atualizacao_diaria\\IMPORT_S3_SQL\\Carga Positivador.exe\"\n",
    "path_carga_base = r\"C:\\Users\\Administrador\\Documents\\atualizacao_diaria\\IMPORT_S3_SQL\\IMPORT_S3_SQL.exe\"\n"
   ]
  },
  {
   "cell_type": "markdown",
   "metadata": {},
   "source": [
    "# 3 - Execuções"
   ]
  },
  {
   "cell_type": "markdown",
   "metadata": {},
   "source": [
    "## Cubo Investimentos"
   ]
  },
  {
   "cell_type": "markdown",
   "metadata": {},
   "source": [
    "### 0 - positivador"
   ]
  },
  {
   "cell_type": "code",
   "execution_count": 6,
   "metadata": {},
   "outputs": [
    {
     "name": "stderr",
     "output_type": "stream",
     "text": [
      "c:\\Users\\Administrador\\Documents\\codigos\\atualizacao_diaria\\auxiliar\\auxiliares.py:249: SettingWithCopyWarning: \n",
      "A value is trying to be set on a copy of a slice from a DataFrame.\n",
      "Try using .loc[row_indexer,col_indexer] = value instead\n",
      "\n",
      "See the caveats in the documentation: https://pandas.pydata.org/pandas-docs/stable/user_guide/indexing.html#returning-a-view-versus-a-copy\n",
      "  df[coluna] = df[coluna].astype(str).apply(filtrar_apenas_numeros)\n",
      "c:\\Users\\Administrador\\Documents\\codigos\\atualizacao_diaria\\auxiliar\\auxiliares.py:262: SettingWithCopyWarning: \n",
      "A value is trying to be set on a copy of a slice from a DataFrame.\n",
      "Try using .loc[row_indexer,col_indexer] = value instead\n",
      "\n",
      "See the caveats in the documentation: https://pandas.pydata.org/pandas-docs/stable/user_guide/indexing.html#returning-a-view-versus-a-copy\n",
      "  df[coluna] = pd.to_numeric(df[coluna], errors=\"coerce\")\n",
      "c:\\Users\\Administrador\\Documents\\codigos\\atualizacao_diaria\\auxiliar\\auxiliares.py:263: SettingWithCopyWarning: \n",
      "A value is trying to be set on a copy of a slice from a DataFrame.\n",
      "Try using .loc[row_indexer,col_indexer] = value instead\n",
      "\n",
      "See the caveats in the documentation: https://pandas.pydata.org/pandas-docs/stable/user_guide/indexing.html#returning-a-view-versus-a-copy\n",
      "  df[coluna] = df[coluna].round(2)\n",
      "c:\\Users\\Administrador\\Documents\\codigos\\atualizacao_diaria\\auxiliar\\auxiliares.py:224: SettingWithCopyWarning: \n",
      "A value is trying to be set on a copy of a slice from a DataFrame.\n",
      "Try using .loc[row_indexer,col_indexer] = value instead\n",
      "\n",
      "See the caveats in the documentation: https://pandas.pydata.org/pandas-docs/stable/user_guide/indexing.html#returning-a-view-versus-a-copy\n",
      "  df[col] = pd.to_datetime(\n",
      "c:\\Users\\Administrador\\Documents\\codigos\\atualizacao_diaria\\auxiliar\\auxiliares.py:224: SettingWithCopyWarning: \n",
      "A value is trying to be set on a copy of a slice from a DataFrame.\n",
      "Try using .loc[row_indexer,col_indexer] = value instead\n",
      "\n",
      "See the caveats in the documentation: https://pandas.pydata.org/pandas-docs/stable/user_guide/indexing.html#returning-a-view-versus-a-copy\n",
      "  df[col] = pd.to_datetime(\n",
      "c:\\Users\\Administrador\\Documents\\codigos\\atualizacao_diaria\\auxiliar\\auxiliares.py:224: SettingWithCopyWarning: \n",
      "A value is trying to be set on a copy of a slice from a DataFrame.\n",
      "Try using .loc[row_indexer,col_indexer] = value instead\n",
      "\n",
      "See the caveats in the documentation: https://pandas.pydata.org/pandas-docs/stable/user_guide/indexing.html#returning-a-view-versus-a-copy\n",
      "  df[col] = pd.to_datetime(\n",
      "c:\\Users\\Administrador\\Documents\\codigos\\atualizacao_diaria\\auxiliar\\auxiliares.py:167: SettingWithCopyWarning: \n",
      "A value is trying to be set on a copy of a slice from a DataFrame.\n",
      "Try using .loc[row_indexer,col_indexer] = value instead\n",
      "\n",
      "See the caveats in the documentation: https://pandas.pydata.org/pandas-docs/stable/user_guide/indexing.html#returning-a-view-versus-a-copy\n",
      "  df[col] = df[col].apply(lambda x: f'\"{x}\"' if not pd.isna(x) else x)\n"
     ]
    },
    {
     "name": "stdout",
     "output_type": "stream",
     "text": [
      "CSV salvo em ../../atualizacao_diaria/IMPORT_S3_SQL/BASE/0 - positivador/2025.01.21-2025.01.17-positivador_09-56.csv!\n",
      "../../atualizacao_diaria/IMPORT_S3_SQL/BASE/0 - positivador/2025.01.21-2025.01.17-positivador_09-56.csv enviado para positivador/positivador_2025-01-21.csv no bucket m7investimentos.\n"
     ]
    }
   ],
   "source": [
    "retorno = load_positivador_s3(path_do_arquivo_positivador)\n",
    "# if not retorno:\n",
    "#     carga_positivador(path_carga_positivador)"
   ]
  },
  {
   "cell_type": "markdown",
   "metadata": {},
   "source": [
    "### 1 - diversificacao"
   ]
  },
  {
   "cell_type": "code",
   "execution_count": 7,
   "metadata": {},
   "outputs": [
    {
     "name": "stdout",
     "output_type": "stream",
     "text": [
      "erro!!! ../../atualizacao_diaria/IMPORT_S3_SQL/BASE/0.1 - diversificacao/2025.01.21-2025.01.17-diversificacao.xlsx\n",
      "nao tem o arquivo\n"
     ]
    }
   ],
   "source": [
    "retorno = load_diversificacao_s3(path_do_arquivo_diversificacao)\n",
    "# if not retorno:\n",
    "#     carga_base(path_carga_base, entrada='diversificacao')"
   ]
  },
  {
   "cell_type": "markdown",
   "metadata": {},
   "source": [
    "### 2 - corretagem"
   ]
  },
  {
   "cell_type": "code",
   "execution_count": 8,
   "metadata": {},
   "outputs": [
    {
     "name": "stderr",
     "output_type": "stream",
     "text": [
      "c:\\Users\\Administrador\\anaconda3\\envs\\m7_ia_investimentos\\Lib\\site-packages\\openpyxl\\styles\\stylesheet.py:237: UserWarning: Workbook contains no default style, apply openpyxl's default\n",
      "  warn(\"Workbook contains no default style, apply openpyxl's default\")\n"
     ]
    },
    {
     "name": "stdout",
     "output_type": "stream",
     "text": [
      "CSV salvo em ../../atualizacao_diaria/IMPORT_S3_SQL/BASE/1 - corretagem/2025.01.21-2025.01.17-corretagem_10-39.csv!\n",
      "../../atualizacao_diaria/IMPORT_S3_SQL/BASE/1 - corretagem/2025.01.21-2025.01.17-corretagem_10-39.csv enviado para corretagem/corretagem_2025-01-21.csv no bucket m7investimentos.\n"
     ]
    }
   ],
   "source": [
    "retorno = load_corretagem_s3(path_do_arquivo_corretagem)\n",
    "# if not retorno:\n",
    "#     carga_base(path_carga_base, entrada='corretagem')\n"
   ]
  },
  {
   "cell_type": "markdown",
   "metadata": {},
   "source": [
    "### 3 - btc "
   ]
  },
  {
   "cell_type": "code",
   "execution_count": 9,
   "metadata": {},
   "outputs": [
    {
     "name": "stdout",
     "output_type": "stream",
     "text": [
      "CSV salvo em ../../atualizacao_diaria/IMPORT_S3_SQL/BASE/2 - btc/2025.01.21-2025.01.17-btc_10-39.csv!\n"
     ]
    },
    {
     "name": "stderr",
     "output_type": "stream",
     "text": [
      "c:\\Users\\Administrador\\anaconda3\\envs\\m7_ia_investimentos\\Lib\\site-packages\\openpyxl\\styles\\stylesheet.py:237: UserWarning: Workbook contains no default style, apply openpyxl's default\n",
      "  warn(\"Workbook contains no default style, apply openpyxl's default\")\n"
     ]
    },
    {
     "name": "stdout",
     "output_type": "stream",
     "text": [
      "../../atualizacao_diaria/IMPORT_S3_SQL/BASE/2 - btc/2025.01.21-2025.01.17-btc_10-39.csv enviado para btc/btc_2025-01-21.csv no bucket m7investimentos.\n"
     ]
    }
   ],
   "source": [
    "retorno = load_btc_s3(path_do_arquivo_btc)\n",
    "\n",
    "# if not retorno:\n",
    "#     carga_base(path_carga_base, entrada='btc')"
   ]
  },
  {
   "cell_type": "markdown",
   "metadata": {},
   "source": [
    "### 4 - prod_estruturados"
   ]
  },
  {
   "cell_type": "code",
   "execution_count": 10,
   "metadata": {},
   "outputs": [
    {
     "name": "stdout",
     "output_type": "stream",
     "text": [
      "erro!!! ../../atualizacao_diaria/IMPORT_S3_SQL/BASE/3 - prod_estruturados/2025.01.21-2025.01.17-prod_estruturados.xlsx\n",
      "nao tem o arquivo\n"
     ]
    }
   ],
   "source": [
    "retorno = load_prod_estruturados_s3(path_do_arquivo_prod_estruturados)\n",
    "# if not retorno:\n",
    "#     carga_base(path_carga_base, entrada='produtos_estruturados')"
   ]
  },
  {
   "cell_type": "markdown",
   "metadata": {},
   "source": [
    "### 5 - cambio"
   ]
  },
  {
   "cell_type": "code",
   "execution_count": 11,
   "metadata": {},
   "outputs": [
    {
     "name": "stdout",
     "output_type": "stream",
     "text": [
      "erro!!! ../../atualizacao_diaria/IMPORT_S3_SQL/BASE/4 - cambio/2025.01.21-2025.01.17-cambio.xlsx\n",
      "nao tem o arquivo\n"
     ]
    }
   ],
   "source": [
    "retorno = load_cambio_s3(path_do_arquivo_cambio)\n",
    "# if not retorno:\n",
    "#      carga_base(path_carga_base, entrada=\"cambio_att\")\n"
   ]
  },
  {
   "cell_type": "markdown",
   "metadata": {},
   "source": [
    "### 6 - coe"
   ]
  },
  {
   "cell_type": "code",
   "execution_count": 12,
   "metadata": {},
   "outputs": [
    {
     "name": "stdout",
     "output_type": "stream",
     "text": [
      "erro!!! ../../atualizacao_diaria/IMPORT_S3_SQL/BASE/5 - coe/2025.01.21-2025.01.17-coe.xlsx\n",
      "nao tem o arquivo\n"
     ]
    }
   ],
   "source": [
    "retorno = load_coe_s3(path_do_arquivo_coe)\n",
    "# if not retorno:\n",
    "#     carga_base(path_carga_base, entrada='coe')"
   ]
  },
  {
   "cell_type": "markdown",
   "metadata": {},
   "source": [
    "### 7 - nps"
   ]
  },
  {
   "cell_type": "code",
   "execution_count": null,
   "metadata": {},
   "outputs": [],
   "source": []
  },
  {
   "cell_type": "markdown",
   "metadata": {},
   "source": [
    "### 8 - xp_us_cap"
   ]
  },
  {
   "cell_type": "code",
   "execution_count": 13,
   "metadata": {},
   "outputs": [
    {
     "name": "stdout",
     "output_type": "stream",
     "text": [
      "erro!!! ../../atualizacao_diaria/IMPORT_S3_SQL/BASE/7 - xpus_cap/2025.01.21-2025.01.17-xpus_cap.xlsx\n",
      "nao tem o arquivo\n"
     ]
    }
   ],
   "source": [
    "retorno = load_xpus_cap_s3(path_do_arquivo_xpus_cap)\n"
   ]
  },
  {
   "cell_type": "markdown",
   "metadata": {},
   "source": [
    "## Receitas\n"
   ]
  },
  {
   "cell_type": "markdown",
   "metadata": {},
   "source": [
    "### 9 - analitico_rf"
   ]
  },
  {
   "cell_type": "code",
   "execution_count": 14,
   "metadata": {},
   "outputs": [
    {
     "name": "stderr",
     "output_type": "stream",
     "text": [
      "c:\\Users\\Administrador\\anaconda3\\envs\\m7_ia_investimentos\\Lib\\site-packages\\openpyxl\\styles\\stylesheet.py:237: UserWarning: Workbook contains no default style, apply openpyxl's default\n",
      "  warn(\"Workbook contains no default style, apply openpyxl's default\")\n"
     ]
    },
    {
     "name": "stdout",
     "output_type": "stream",
     "text": [
      "CSV salvo em ../../atualizacao_diaria/IMPORT_S3_SQL/BASE/8 - analitico_rf/2025.01.21-2025.01.17-analitico_rf_10-39.csv!\n",
      "../../atualizacao_diaria/IMPORT_S3_SQL/BASE/8 - analitico_rf/2025.01.21-2025.01.17-analitico_rf_10-39.csv enviado para analitico_rf/analitico_rf_2025-01-21.csv no bucket m7investimentos.\n"
     ]
    }
   ],
   "source": [
    "retorno = load_analitico_rf_s3(path_do_arquivo_analitico)\n",
    "# if not retorno:analitico\n",
    "#     carga_base(path_carga_base, entrada='analitico_rf')"
   ]
  },
  {
   "cell_type": "markdown",
   "metadata": {},
   "source": [
    "### 11 - compromissada"
   ]
  },
  {
   "cell_type": "code",
   "execution_count": 15,
   "metadata": {},
   "outputs": [
    {
     "name": "stderr",
     "output_type": "stream",
     "text": [
      "c:\\Users\\Administrador\\anaconda3\\envs\\m7_ia_investimentos\\Lib\\site-packages\\openpyxl\\styles\\stylesheet.py:237: UserWarning: Workbook contains no default style, apply openpyxl's default\n",
      "  warn(\"Workbook contains no default style, apply openpyxl's default\")\n"
     ]
    },
    {
     "name": "stdout",
     "output_type": "stream",
     "text": [
      "CSV salvo em ../../atualizacao_diaria/IMPORT_S3_SQL/BASE/9 - compromissada/2025.01.21-2025.01.17-compromissada_10-39.csv!\n",
      "../../atualizacao_diaria/IMPORT_S3_SQL/BASE/9 - compromissada/2025.01.21-2025.01.17-compromissada_10-39.csv enviado para compromissada/compromissada_2025-01-21.csv no bucket m7investimentos.\n"
     ]
    }
   ],
   "source": [
    "retorno = load_compromissada_s3(path_do_arquivo_compromissada)\n",
    "# if not retorno:\n",
    "#     carga_base(path_carga_base, entrada='compromissada')"
   ]
  },
  {
   "cell_type": "markdown",
   "metadata": {},
   "source": [
    "### 12 - fluxo_corretagem"
   ]
  },
  {
   "cell_type": "code",
   "execution_count": 16,
   "metadata": {},
   "outputs": [
    {
     "name": "stderr",
     "output_type": "stream",
     "text": [
      "c:\\Users\\Administrador\\anaconda3\\envs\\m7_ia_investimentos\\Lib\\site-packages\\openpyxl\\styles\\stylesheet.py:237: UserWarning: Workbook contains no default style, apply openpyxl's default\n",
      "  warn(\"Workbook contains no default style, apply openpyxl's default\")\n"
     ]
    },
    {
     "name": "stdout",
     "output_type": "stream",
     "text": [
      "CSV salvo em ../../atualizacao_diaria/IMPORT_S3_SQL/BASE/10 - fluxo_corretagem/2025.01.21-2025.01.17-fluxo_corretagem_10-39.csv!\n",
      "../../atualizacao_diaria/IMPORT_S3_SQL/BASE/10 - fluxo_corretagem/2025.01.21-2025.01.17-fluxo_corretagem_10-39.csv enviado para fluxo_corretagem/fluxo_corretagem_2025-01-21.csv no bucket m7investimentos.\n"
     ]
    }
   ],
   "source": [
    "retorno = load_fluxo_corretagem_s3(path_do_arquivo_fluxo_corretagem)\n",
    "# if not retorno:\n",
    "#     carga_base(path_carga_base, entrada='fluxo_corretagem')"
   ]
  },
  {
   "cell_type": "markdown",
   "metadata": {},
   "source": [
    "### 13 - transferencias"
   ]
  },
  {
   "cell_type": "code",
   "execution_count": null,
   "metadata": {},
   "outputs": [],
   "source": [
    "retorno = load_processamentos_s3(path_do_arquivo_transferencia)"
   ]
  },
  {
   "cell_type": "markdown",
   "metadata": {},
   "source": [
    "### 14 - CDI"
   ]
  },
  {
   "cell_type": "code",
   "execution_count": null,
   "metadata": {},
   "outputs": [],
   "source": [
    "import pandas as pd\n",
    "def consulta_bc(data_ini, data_fin, base=1):\n",
    "    url = f'http://api.bcb.gov.br/dados/serie/bcdata.sgs.{base}/dados?formato=json&dataInicial={data_ini}&dataFinal={data_fin}'\n",
    "    df = pd.read_json(url)\n",
    "    if not df.empty:\n",
    "        \n",
    "        return df\n",
    "    else:\n",
    "        return None\n",
    "    \n",
    "df = consulta_bc(data_ini='30/11/2024', data_fin='31/12/2024', base=12)\n",
    "\n"
   ]
  },
  {
   "cell_type": "code",
   "execution_count": null,
   "metadata": {},
   "outputs": [],
   "source": [
    "df['data'] = pd.to_datetime(df['data'], format='%d/%m/%Y')\n",
    "df.rename(columns={'valor': 'CDI_dia', 'data': 'data_ref'}, inplace=True)\n",
    "df['CDI_dia'] = df['CDI_dia']/100\n",
    "\n"
   ]
  },
  {
   "cell_type": "code",
   "execution_count": null,
   "metadata": {},
   "outputs": [],
   "source": [
    "df['ano_mes'] = df['data_ref'].dt.year.astype(str) + df['data_ref'].dt.month.astype(str)\n",
    "df.head()"
   ]
  },
  {
   "cell_type": "code",
   "execution_count": null,
   "metadata": {},
   "outputs": [],
   "source": [
    "df_cdi_mes = df.groupby('ano_mes')['CDI_dia'].apply(lambda x: (((x / 100 + 1).prod() - 1) * 100)).reset_index()\n",
    "df_cdi_mes.rename(columns={'CDI_dia': 'CDI_mes'}, inplace=True)\n",
    "df = df.merge(df_cdi_mes, on='ano_mes', how='left')\n",
    "df['CDI_mes'] = df['CDI_mes'].round(6)\n",
    "colunas = ['data_ref', 'ano_mes', 'CDI_dia', 'CDI_mes']\n",
    "df = df[colunas]\n",
    "df"
   ]
  },
  {
   "cell_type": "code",
   "execution_count": null,
   "metadata": {},
   "outputs": [],
   "source": [
    "df.to_csv('cdi_dezembro24.csv', index=False)"
   ]
  },
  {
   "cell_type": "markdown",
   "metadata": {},
   "source": [
    "### 16 - XPerformance"
   ]
  },
  {
   "cell_type": "code",
   "execution_count": null,
   "metadata": {},
   "outputs": [],
   "source": [
    "path_do_xperformance = f'../xperformance_rpa/downloads/setembro2024'\n",
    "\n",
    "mover_xperformance_s3(pasta_local=path_do_xperformance, bucket='m7investimentos', pasta_destino='xperformance', s3=acessar_s3())\n"
   ]
  },
  {
   "cell_type": "code",
   "execution_count": null,
   "metadata": {},
   "outputs": [],
   "source": [
    "path_do_xperformance = f'../xperformance_rpa/downloads/outubro2024'\n",
    "\n",
    "mover_xperformance_s3(pasta_local=path_do_xperformance, bucket='m7investimentos', pasta_destino='xperformance', s3=acessar_s3())"
   ]
  },
  {
   "cell_type": "code",
   "execution_count": null,
   "metadata": {},
   "outputs": [],
   "source": [
    "path_do_xperformance = f'../xperformance_rpa/downloads/novembro2024'\n",
    "\n",
    "mover_xperformance_s3(pasta_local=path_do_xperformance, bucket='m7investimentos', pasta_destino='xperformance', s3=acessar_s3())"
   ]
  },
  {
   "cell_type": "markdown",
   "metadata": {},
   "source": [
    "## Fee fixo"
   ]
  },
  {
   "cell_type": "code",
   "execution_count": null,
   "metadata": {},
   "outputs": [],
   "source": [
    "retorno = load_fee_fixo_s3(path_do_arquivo_fee_fixo)\n",
    "# if not retorno:analitico\n",
    "#     carga_base(path_carga_base, entrada='analitico_rf')"
   ]
  }
 ],
 "metadata": {
  "kernelspec": {
   "display_name": "m7_ia_investimentos",
   "language": "python",
   "name": "python3"
  },
  "language_info": {
   "codemirror_mode": {
    "name": "ipython",
    "version": 3
   },
   "file_extension": ".py",
   "mimetype": "text/x-python",
   "name": "python",
   "nbconvert_exporter": "python",
   "pygments_lexer": "ipython3",
   "version": "3.12.3"
  }
 },
 "nbformat": 4,
 "nbformat_minor": 2
}
